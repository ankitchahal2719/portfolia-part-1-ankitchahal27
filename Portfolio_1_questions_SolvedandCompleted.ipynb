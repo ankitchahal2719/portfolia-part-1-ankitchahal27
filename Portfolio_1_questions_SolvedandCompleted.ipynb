{
 "cells": [
  {
   "cell_type": "markdown",
   "metadata": {},
   "source": [
    "### Analysis of an E-commerce Dataset\n",
    "\n",
    "We have been provided with a combined e-commerce dataset. In this dataset, each user has the ability to post a rating and review for the products they purchased. Additionally, other users can evaluate the initial rating and review by expressing their trust or distrust.\n",
    "\n",
    "This dataset includes a wealth of information for each user. Details such as their profile, ID, gender, city of birth, product ratings (on a scale of 1-5), reviews, and the prices of the products they purchased are all included. Moreover, for each product rating, we have information about the product name, ID, price, and category, the rating score, the timestamp of the rating and review, and the average helpfulness of the rating given by others (on a scale of 1-5).\n",
    "\n",
    "The dataset is from several data sources, and we have merged all the data into a single CSV file named 'A Combined E-commerce Dataset.csv'. The structure of this dataset is represented in the header shown below.\n",
    "\n",
    "| userId | gender | rating | review| item | category | helpfulness | timestamp | item_id | item_price | user_city|\n",
    "\n",
    "    | ---- | ---- | ---- | ---- | ---- | ---- | ---- | ---- | ---- |  ---- |  ---- |  \n",
    "    \n",
    "#### Description of Fields\n",
    "\n",
    "* __userId__ - the user's id\n",
    "* __gender__ - the user's gender\n",
    "* __rating__ - the user's rating towards the item\n",
    "* __review__ - the user's review towards the item\n",
    "* __item__ - the item's name\n",
    "* __category__ - the category of the item\n",
    "* __helpfulness__ - the average helpfulness of this rating\n",
    "* __timestamp__ - the timestamp when the rating is created\n",
    "* __item_id__ - the item's id\n",
    "* __item_price__ - the item's price\n",
    "* __user_city__ - the city of user's birth\n",
    "\n",
    "Note that, a user may rate multiple items and an item may receive ratings and reviews from multiple users. The \"helpfulness\" is an average value based on all the helpfulness values given by others.\n",
    "\n",
    "There are four questions to explore with the data as shown below.\n",
    "\n",
    "\n",
    "\n",
    "<img src=\"data-relation.png\" align=\"left\" width=\"400\"/>\n"
   ]
  },
  {
   "cell_type": "code",
   "execution_count": 63,
   "metadata": {},
   "outputs": [],
   "source": [
    "# NAME: ANKIT CHAHAL\n",
    "# Student ID: 47917903"
   ]
  },
  {
   "cell_type": "markdown",
   "metadata": {},
   "source": [
    " #### Q1. Remove missing data\n",
    " \n",
    "Please remove the following records in the csv file: \n",
    " \n",
    " * gender/rating/helpfulness is missing\n",
    " * review is 'none'\n",
    "\n",
    "__Display the DataFrame, counting number of Null values in each column, and print the length of the data__ before and after removing the missing data.  "
   ]
  },
  {
   "cell_type": "code",
   "execution_count": 42,
   "metadata": {},
   "outputs": [
    {
     "data": {
      "text/plain": [
       "(20000, 11)"
      ]
     },
     "execution_count": 42,
     "metadata": {},
     "output_type": "execute_result"
    }
   ],
   "source": [
    "# your code and solutions\n",
    "import pandas as pd\n",
    "import numpy as np\n",
    "import matplotlib.pyplot as plt\n",
    "\n",
    "# reading CSV from the same local folder\n",
    "\n",
    "ecom_data = pd.read_csv(\"Ecommerce_Dataset.csv\")\n",
    "ecom_data.shape"
   ]
  },
  {
   "cell_type": "code",
   "execution_count": 43,
   "metadata": {},
   "outputs": [
    {
     "data": {
      "text/plain": [
       "(19934, 11)"
      ]
     },
     "execution_count": 43,
     "metadata": {},
     "output_type": "execute_result"
    }
   ],
   "source": [
    "#removing columns with null\n",
    "\n",
    "columns_with_null = [\"gender\", \"rating\", \"helpfulness\"]\n",
    "ecom_data_clean_1 = ecom_data.dropna(axis = 0, subset = columns_with_null)\n",
    "ecom_data_clean_1.shape"
   ]
  },
  {
   "cell_type": "code",
   "execution_count": 44,
   "metadata": {},
   "outputs": [
    {
     "data": {
      "text/plain": [
       "(19916, 11)"
      ]
     },
     "execution_count": 44,
     "metadata": {},
     "output_type": "execute_result"
    }
   ],
   "source": [
    "#removing rows where review is none\n",
    "\n",
    "ecom_data_clean_2 = ecom_data_clean_1.drop(ecom_data_clean_1.index[(ecom_data_clean_1.review == \"none\")])\n",
    "ecom_data_clean_2.shape"
   ]
  },
  {
   "cell_type": "markdown",
   "metadata": {},
   "source": [
    "#### Q2. Descriptive statistics\n",
    "\n",
    "With the cleaned data in Q1, please provide the data summarization as below:\n",
    "\n",
    "* Q2.1 total number of unique users, unique reviews, unique items, and unique categories\n",
    "* Q2.2 descriptive statistics, e.g., the total number, mean, std, min and max regarding all rating records\n",
    "* Q2.3 descriptive statistics, e.g., mean, std, max, and min of the number of items rated by different genders \n",
    "* Q2.4 descriptive statistics, e.g., mean, std, max, min of the number of ratings that received by each items \n"
   ]
  },
  {
   "cell_type": "code",
   "execution_count": 45,
   "metadata": {},
   "outputs": [
    {
     "data": {
      "text/plain": [
       "8562"
      ]
     },
     "execution_count": 45,
     "metadata": {},
     "output_type": "execute_result"
    }
   ],
   "source": [
    "# your code and solutions\n",
    "\n",
    "# Unique users\n",
    "unique_users = ecom_data_clean_2['userId'].nunique()\n",
    "unique_users"
   ]
  },
  {
   "cell_type": "code",
   "execution_count": 46,
   "metadata": {},
   "outputs": [],
   "source": [
    "unique_reviews = ecom_data_clean_2['review'].nunique()\n",
    "unique_item = ecom_data_clean_2['item'].nunique()\n",
    "unique_categories = ecom_data_clean_2['category'].nunique()"
   ]
  },
  {
   "cell_type": "code",
   "execution_count": 47,
   "metadata": {},
   "outputs": [
    {
     "data": {
      "text/plain": [
       "19459"
      ]
     },
     "execution_count": 47,
     "metadata": {},
     "output_type": "execute_result"
    }
   ],
   "source": [
    "unique_reviews"
   ]
  },
  {
   "cell_type": "code",
   "execution_count": 48,
   "metadata": {},
   "outputs": [
    {
     "data": {
      "text/plain": [
       "89"
      ]
     },
     "execution_count": 48,
     "metadata": {},
     "output_type": "execute_result"
    }
   ],
   "source": [
    "unique_item"
   ]
  },
  {
   "cell_type": "code",
   "execution_count": 49,
   "metadata": {},
   "outputs": [
    {
     "data": {
      "text/plain": [
       "9"
      ]
     },
     "execution_count": 49,
     "metadata": {},
     "output_type": "execute_result"
    }
   ],
   "source": [
    "unique_categories"
   ]
  },
  {
   "cell_type": "code",
   "execution_count": 50,
   "metadata": {},
   "outputs": [
    {
     "data": {
      "text/html": [
       "<div>\n",
       "<style scoped>\n",
       "    .dataframe tbody tr th:only-of-type {\n",
       "        vertical-align: middle;\n",
       "    }\n",
       "\n",
       "    .dataframe tbody tr th {\n",
       "        vertical-align: top;\n",
       "    }\n",
       "\n",
       "    .dataframe thead th {\n",
       "        text-align: right;\n",
       "    }\n",
       "</style>\n",
       "<table border=\"1\" class=\"dataframe\">\n",
       "  <thead>\n",
       "    <tr style=\"text-align: right;\">\n",
       "      <th></th>\n",
       "      <th>userId</th>\n",
       "      <th>timestamp</th>\n",
       "      <th>rating</th>\n",
       "      <th>helpfulness</th>\n",
       "      <th>item_id</th>\n",
       "      <th>item_price</th>\n",
       "      <th>user_city</th>\n",
       "    </tr>\n",
       "  </thead>\n",
       "  <tbody>\n",
       "    <tr>\n",
       "      <th>count</th>\n",
       "      <td>19916.000000</td>\n",
       "      <td>19916.000000</td>\n",
       "      <td>19916.000000</td>\n",
       "      <td>19916.000000</td>\n",
       "      <td>19916.000000</td>\n",
       "      <td>19916.000000</td>\n",
       "      <td>19916.000000</td>\n",
       "    </tr>\n",
       "    <tr>\n",
       "      <th>mean</th>\n",
       "      <td>5498.589827</td>\n",
       "      <td>58993.228008</td>\n",
       "      <td>3.701798</td>\n",
       "      <td>2.595953</td>\n",
       "      <td>41.779976</td>\n",
       "      <td>82.186515</td>\n",
       "      <td>19.403043</td>\n",
       "    </tr>\n",
       "    <tr>\n",
       "      <th>std</th>\n",
       "      <td>3344.391672</td>\n",
       "      <td>37957.960964</td>\n",
       "      <td>1.404451</td>\n",
       "      <td>1.750888</td>\n",
       "      <td>27.278416</td>\n",
       "      <td>42.242266</td>\n",
       "      <td>11.626979</td>\n",
       "    </tr>\n",
       "    <tr>\n",
       "      <th>min</th>\n",
       "      <td>0.000000</td>\n",
       "      <td>10100.000000</td>\n",
       "      <td>1.000000</td>\n",
       "      <td>0.000000</td>\n",
       "      <td>0.000000</td>\n",
       "      <td>12.000000</td>\n",
       "      <td>0.000000</td>\n",
       "    </tr>\n",
       "    <tr>\n",
       "      <th>25%</th>\n",
       "      <td>1991.000000</td>\n",
       "      <td>21500.000000</td>\n",
       "      <td>3.000000</td>\n",
       "      <td>0.000000</td>\n",
       "      <td>17.000000</td>\n",
       "      <td>48.250000</td>\n",
       "      <td>9.000000</td>\n",
       "    </tr>\n",
       "    <tr>\n",
       "      <th>50%</th>\n",
       "      <td>5892.000000</td>\n",
       "      <td>52701.000000</td>\n",
       "      <td>4.000000</td>\n",
       "      <td>4.000000</td>\n",
       "      <td>41.000000</td>\n",
       "      <td>72.000000</td>\n",
       "      <td>19.000000</td>\n",
       "    </tr>\n",
       "    <tr>\n",
       "      <th>75%</th>\n",
       "      <td>8408.250000</td>\n",
       "      <td>91599.000000</td>\n",
       "      <td>5.000000</td>\n",
       "      <td>4.000000</td>\n",
       "      <td>65.000000</td>\n",
       "      <td>126.500000</td>\n",
       "      <td>30.000000</td>\n",
       "    </tr>\n",
       "    <tr>\n",
       "      <th>max</th>\n",
       "      <td>10808.000000</td>\n",
       "      <td>123199.000000</td>\n",
       "      <td>5.000000</td>\n",
       "      <td>4.000000</td>\n",
       "      <td>88.000000</td>\n",
       "      <td>149.000000</td>\n",
       "      <td>39.000000</td>\n",
       "    </tr>\n",
       "  </tbody>\n",
       "</table>\n",
       "</div>"
      ],
      "text/plain": [
       "             userId      timestamp        rating   helpfulness       item_id  \\\n",
       "count  19916.000000   19916.000000  19916.000000  19916.000000  19916.000000   \n",
       "mean    5498.589827   58993.228008      3.701798      2.595953     41.779976   \n",
       "std     3344.391672   37957.960964      1.404451      1.750888     27.278416   \n",
       "min        0.000000   10100.000000      1.000000      0.000000      0.000000   \n",
       "25%     1991.000000   21500.000000      3.000000      0.000000     17.000000   \n",
       "50%     5892.000000   52701.000000      4.000000      4.000000     41.000000   \n",
       "75%     8408.250000   91599.000000      5.000000      4.000000     65.000000   \n",
       "max    10808.000000  123199.000000      5.000000      4.000000     88.000000   \n",
       "\n",
       "         item_price     user_city  \n",
       "count  19916.000000  19916.000000  \n",
       "mean      82.186515     19.403043  \n",
       "std       42.242266     11.626979  \n",
       "min       12.000000      0.000000  \n",
       "25%       48.250000      9.000000  \n",
       "50%       72.000000     19.000000  \n",
       "75%      126.500000     30.000000  \n",
       "max      149.000000     39.000000  "
      ]
     },
     "execution_count": 50,
     "metadata": {},
     "output_type": "execute_result"
    }
   ],
   "source": [
    "ecom_data_clean_2.describe()"
   ]
  },
  {
   "cell_type": "code",
   "execution_count": 51,
   "metadata": {},
   "outputs": [
    {
     "data": {
      "text/plain": [
       "(9793, 11)"
      ]
     },
     "execution_count": 51,
     "metadata": {},
     "output_type": "execute_result"
    }
   ],
   "source": [
    "ecom_data_females = ecom_data_clean_2[ecom_data_clean_2.gender == 'F']\n",
    "ecom_data_females.shape"
   ]
  },
  {
   "cell_type": "code",
   "execution_count": 52,
   "metadata": {},
   "outputs": [
    {
     "data": {
      "text/html": [
       "<div>\n",
       "<style scoped>\n",
       "    .dataframe tbody tr th:only-of-type {\n",
       "        vertical-align: middle;\n",
       "    }\n",
       "\n",
       "    .dataframe tbody tr th {\n",
       "        vertical-align: top;\n",
       "    }\n",
       "\n",
       "    .dataframe thead th {\n",
       "        text-align: right;\n",
       "    }\n",
       "</style>\n",
       "<table border=\"1\" class=\"dataframe\">\n",
       "  <thead>\n",
       "    <tr style=\"text-align: right;\">\n",
       "      <th></th>\n",
       "      <th>userId</th>\n",
       "      <th>timestamp</th>\n",
       "      <th>rating</th>\n",
       "      <th>helpfulness</th>\n",
       "      <th>item_id</th>\n",
       "      <th>item_price</th>\n",
       "      <th>user_city</th>\n",
       "    </tr>\n",
       "  </thead>\n",
       "  <tbody>\n",
       "    <tr>\n",
       "      <th>count</th>\n",
       "      <td>9793.000000</td>\n",
       "      <td>9793.000000</td>\n",
       "      <td>9793.000000</td>\n",
       "      <td>9793.000000</td>\n",
       "      <td>9793.000000</td>\n",
       "      <td>9793.000000</td>\n",
       "      <td>9793.000000</td>\n",
       "    </tr>\n",
       "    <tr>\n",
       "      <th>mean</th>\n",
       "      <td>5533.094149</td>\n",
       "      <td>59167.472378</td>\n",
       "      <td>3.717451</td>\n",
       "      <td>2.586439</td>\n",
       "      <td>41.435209</td>\n",
       "      <td>82.563392</td>\n",
       "      <td>19.361789</td>\n",
       "    </tr>\n",
       "    <tr>\n",
       "      <th>std</th>\n",
       "      <td>3324.559586</td>\n",
       "      <td>38117.030326</td>\n",
       "      <td>1.395355</td>\n",
       "      <td>1.751956</td>\n",
       "      <td>27.271082</td>\n",
       "      <td>42.139878</td>\n",
       "      <td>11.719459</td>\n",
       "    </tr>\n",
       "    <tr>\n",
       "      <th>min</th>\n",
       "      <td>0.000000</td>\n",
       "      <td>10100.000000</td>\n",
       "      <td>1.000000</td>\n",
       "      <td>0.000000</td>\n",
       "      <td>0.000000</td>\n",
       "      <td>12.000000</td>\n",
       "      <td>0.000000</td>\n",
       "    </tr>\n",
       "    <tr>\n",
       "      <th>25%</th>\n",
       "      <td>2048.000000</td>\n",
       "      <td>21401.000000</td>\n",
       "      <td>3.000000</td>\n",
       "      <td>0.000000</td>\n",
       "      <td>17.000000</td>\n",
       "      <td>49.000000</td>\n",
       "      <td>9.000000</td>\n",
       "    </tr>\n",
       "    <tr>\n",
       "      <th>50%</th>\n",
       "      <td>5909.000000</td>\n",
       "      <td>52800.000000</td>\n",
       "      <td>4.000000</td>\n",
       "      <td>4.000000</td>\n",
       "      <td>41.000000</td>\n",
       "      <td>72.000000</td>\n",
       "      <td>19.000000</td>\n",
       "    </tr>\n",
       "    <tr>\n",
       "      <th>75%</th>\n",
       "      <td>8363.000000</td>\n",
       "      <td>91700.000000</td>\n",
       "      <td>5.000000</td>\n",
       "      <td>4.000000</td>\n",
       "      <td>65.000000</td>\n",
       "      <td>126.500000</td>\n",
       "      <td>30.000000</td>\n",
       "    </tr>\n",
       "    <tr>\n",
       "      <th>max</th>\n",
       "      <td>10805.000000</td>\n",
       "      <td>123199.000000</td>\n",
       "      <td>5.000000</td>\n",
       "      <td>4.000000</td>\n",
       "      <td>88.000000</td>\n",
       "      <td>149.000000</td>\n",
       "      <td>39.000000</td>\n",
       "    </tr>\n",
       "  </tbody>\n",
       "</table>\n",
       "</div>"
      ],
      "text/plain": [
       "             userId      timestamp       rating  helpfulness      item_id  \\\n",
       "count   9793.000000    9793.000000  9793.000000  9793.000000  9793.000000   \n",
       "mean    5533.094149   59167.472378     3.717451     2.586439    41.435209   \n",
       "std     3324.559586   38117.030326     1.395355     1.751956    27.271082   \n",
       "min        0.000000   10100.000000     1.000000     0.000000     0.000000   \n",
       "25%     2048.000000   21401.000000     3.000000     0.000000    17.000000   \n",
       "50%     5909.000000   52800.000000     4.000000     4.000000    41.000000   \n",
       "75%     8363.000000   91700.000000     5.000000     4.000000    65.000000   \n",
       "max    10805.000000  123199.000000     5.000000     4.000000    88.000000   \n",
       "\n",
       "        item_price    user_city  \n",
       "count  9793.000000  9793.000000  \n",
       "mean     82.563392    19.361789  \n",
       "std      42.139878    11.719459  \n",
       "min      12.000000     0.000000  \n",
       "25%      49.000000     9.000000  \n",
       "50%      72.000000    19.000000  \n",
       "75%     126.500000    30.000000  \n",
       "max     149.000000    39.000000  "
      ]
     },
     "execution_count": 52,
     "metadata": {},
     "output_type": "execute_result"
    }
   ],
   "source": [
    "ecom_data_females.describe()"
   ]
  },
  {
   "cell_type": "code",
   "execution_count": 53,
   "metadata": {},
   "outputs": [
    {
     "data": {
      "text/plain": [
       "(10123, 11)"
      ]
     },
     "execution_count": 53,
     "metadata": {},
     "output_type": "execute_result"
    }
   ],
   "source": [
    "ecom_data_males = ecom_data_clean_2[ecom_data_clean_2.gender == 'M']\n",
    "ecom_data_males.shape"
   ]
  },
  {
   "cell_type": "code",
   "execution_count": 54,
   "metadata": {},
   "outputs": [
    {
     "data": {
      "text/html": [
       "<div>\n",
       "<style scoped>\n",
       "    .dataframe tbody tr th:only-of-type {\n",
       "        vertical-align: middle;\n",
       "    }\n",
       "\n",
       "    .dataframe tbody tr th {\n",
       "        vertical-align: top;\n",
       "    }\n",
       "\n",
       "    .dataframe thead th {\n",
       "        text-align: right;\n",
       "    }\n",
       "</style>\n",
       "<table border=\"1\" class=\"dataframe\">\n",
       "  <thead>\n",
       "    <tr style=\"text-align: right;\">\n",
       "      <th></th>\n",
       "      <th>userId</th>\n",
       "      <th>timestamp</th>\n",
       "      <th>rating</th>\n",
       "      <th>helpfulness</th>\n",
       "      <th>item_id</th>\n",
       "      <th>item_price</th>\n",
       "      <th>user_city</th>\n",
       "    </tr>\n",
       "  </thead>\n",
       "  <tbody>\n",
       "    <tr>\n",
       "      <th>count</th>\n",
       "      <td>10123.000000</td>\n",
       "      <td>10123.000000</td>\n",
       "      <td>10123.000000</td>\n",
       "      <td>10123.000000</td>\n",
       "      <td>10123.000000</td>\n",
       "      <td>10123.000000</td>\n",
       "      <td>10123.000000</td>\n",
       "    </tr>\n",
       "    <tr>\n",
       "      <th>mean</th>\n",
       "      <td>5465.210313</td>\n",
       "      <td>58824.663835</td>\n",
       "      <td>3.686654</td>\n",
       "      <td>2.605157</td>\n",
       "      <td>42.113504</td>\n",
       "      <td>81.821923</td>\n",
       "      <td>19.442952</td>\n",
       "    </tr>\n",
       "    <tr>\n",
       "      <th>std</th>\n",
       "      <td>3363.293294</td>\n",
       "      <td>37804.558980</td>\n",
       "      <td>1.413098</td>\n",
       "      <td>1.749892</td>\n",
       "      <td>27.282709</td>\n",
       "      <td>42.339969</td>\n",
       "      <td>11.537247</td>\n",
       "    </tr>\n",
       "    <tr>\n",
       "      <th>min</th>\n",
       "      <td>2.000000</td>\n",
       "      <td>10100.000000</td>\n",
       "      <td>1.000000</td>\n",
       "      <td>0.000000</td>\n",
       "      <td>0.000000</td>\n",
       "      <td>12.000000</td>\n",
       "      <td>0.000000</td>\n",
       "    </tr>\n",
       "    <tr>\n",
       "      <th>25%</th>\n",
       "      <td>1934.000000</td>\n",
       "      <td>21600.000000</td>\n",
       "      <td>3.000000</td>\n",
       "      <td>0.000000</td>\n",
       "      <td>18.000000</td>\n",
       "      <td>48.250000</td>\n",
       "      <td>9.000000</td>\n",
       "    </tr>\n",
       "    <tr>\n",
       "      <th>50%</th>\n",
       "      <td>5880.000000</td>\n",
       "      <td>52700.000000</td>\n",
       "      <td>4.000000</td>\n",
       "      <td>4.000000</td>\n",
       "      <td>41.000000</td>\n",
       "      <td>71.520000</td>\n",
       "      <td>19.000000</td>\n",
       "    </tr>\n",
       "    <tr>\n",
       "      <th>75%</th>\n",
       "      <td>8423.000000</td>\n",
       "      <td>91351.500000</td>\n",
       "      <td>5.000000</td>\n",
       "      <td>4.000000</td>\n",
       "      <td>66.000000</td>\n",
       "      <td>126.500000</td>\n",
       "      <td>29.000000</td>\n",
       "    </tr>\n",
       "    <tr>\n",
       "      <th>max</th>\n",
       "      <td>10808.000000</td>\n",
       "      <td>123199.000000</td>\n",
       "      <td>5.000000</td>\n",
       "      <td>4.000000</td>\n",
       "      <td>88.000000</td>\n",
       "      <td>149.000000</td>\n",
       "      <td>39.000000</td>\n",
       "    </tr>\n",
       "  </tbody>\n",
       "</table>\n",
       "</div>"
      ],
      "text/plain": [
       "             userId      timestamp        rating   helpfulness       item_id  \\\n",
       "count  10123.000000   10123.000000  10123.000000  10123.000000  10123.000000   \n",
       "mean    5465.210313   58824.663835      3.686654      2.605157     42.113504   \n",
       "std     3363.293294   37804.558980      1.413098      1.749892     27.282709   \n",
       "min        2.000000   10100.000000      1.000000      0.000000      0.000000   \n",
       "25%     1934.000000   21600.000000      3.000000      0.000000     18.000000   \n",
       "50%     5880.000000   52700.000000      4.000000      4.000000     41.000000   \n",
       "75%     8423.000000   91351.500000      5.000000      4.000000     66.000000   \n",
       "max    10808.000000  123199.000000      5.000000      4.000000     88.000000   \n",
       "\n",
       "         item_price     user_city  \n",
       "count  10123.000000  10123.000000  \n",
       "mean      81.821923     19.442952  \n",
       "std       42.339969     11.537247  \n",
       "min       12.000000      0.000000  \n",
       "25%       48.250000      9.000000  \n",
       "50%       71.520000     19.000000  \n",
       "75%      126.500000     29.000000  \n",
       "max      149.000000     39.000000  "
      ]
     },
     "execution_count": 54,
     "metadata": {},
     "output_type": "execute_result"
    }
   ],
   "source": [
    "ecom_data_males.describe()"
   ]
  },
  {
   "cell_type": "code",
   "execution_count": 55,
   "metadata": {},
   "outputs": [
    {
     "name": "stdout",
     "output_type": "stream",
     "text": [
      "           rating                    \n",
      "             mean       std  min  max\n",
      "item_id                              \n",
      "0        2.500532  1.368528  1.0  5.0\n",
      "1        3.412481  1.541706  1.0  5.0\n",
      "2        3.541401  1.263341  1.0  5.0\n",
      "3        3.683333  1.571095  1.0  5.0\n",
      "4        3.054054  1.417015  1.0  5.0\n",
      "5        4.314286  1.097966  1.0  5.0\n",
      "6        4.311111  1.030600  1.0  5.0\n",
      "7        3.319277  1.348576  1.0  5.0\n",
      "8        3.822695  1.272139  1.0  5.0\n",
      "9        3.736402  1.284022  1.0  5.0\n",
      "10       2.172414  1.433278  1.0  5.0\n",
      "11       4.191358  1.006402  1.0  5.0\n",
      "12       2.548673  1.455399  1.0  5.0\n",
      "13       4.728873  0.698619  1.0  5.0\n",
      "14       4.844086  0.444051  2.0  5.0\n",
      "15       3.564103  1.325577  1.0  5.0\n",
      "16       3.185567  1.322032  1.0  5.0\n",
      "17       3.876471  1.088960  1.0  5.0\n",
      "18       4.371622  0.942427  1.0  5.0\n",
      "19       3.113333  1.313516  1.0  5.0\n",
      "20       3.005025  1.519229  1.0  5.0\n",
      "21       4.377246  0.868573  1.0  5.0\n",
      "22       4.070588  1.041031  1.0  5.0\n",
      "23       3.248521  1.549889  1.0  5.0\n",
      "24       4.417112  0.827827  1.0  5.0\n",
      "25       3.539568  1.400136  1.0  5.0\n",
      "26       4.333333  1.033793  1.0  5.0\n",
      "27       4.277397  1.059292  1.0  5.0\n",
      "28       4.318182  1.031657  1.0  5.0\n",
      "29       3.968750  0.920427  1.0  5.0\n",
      "...           ...       ...  ...  ...\n",
      "59       4.578947  0.750508  2.0  5.0\n",
      "60       3.137441  1.415920  1.0  5.0\n",
      "61       3.283133  1.174715  1.0  5.0\n",
      "62       4.322581  0.999581  1.0  5.0\n",
      "63       4.335404  1.030437  1.0  5.0\n",
      "64       4.632850  0.914013  1.0  5.0\n",
      "65       4.542773  0.780930  1.0  5.0\n",
      "66       3.697917  1.154275  1.0  5.0\n",
      "67       4.176136  0.984276  1.0  5.0\n",
      "68       3.931250  1.155364  1.0  5.0\n",
      "69       3.980198  1.217806  1.0  5.0\n",
      "70       2.455556  1.367305  1.0  5.0\n",
      "71       3.481928  1.253953  1.0  5.0\n",
      "72       2.727273  1.267141  1.0  5.0\n",
      "73       3.860606  1.224232  1.0  5.0\n",
      "74       3.227273  1.326072  1.0  5.0\n",
      "75       3.010152  1.277713  1.0  5.0\n",
      "76       2.937799  1.503508  1.0  5.0\n",
      "77       4.706294  0.729964  1.0  5.0\n",
      "78       2.834286  1.394147  1.0  5.0\n",
      "79       4.413284  0.889678  1.0  5.0\n",
      "80       4.781457  0.533204  2.0  5.0\n",
      "81       1.274854  0.660133  1.0  5.0\n",
      "82       3.258824  1.329261  1.0  5.0\n",
      "83       2.988166  1.409948  1.0  5.0\n",
      "84       3.971429  1.093322  1.0  5.0\n",
      "85       3.450000  1.201676  1.0  5.0\n",
      "86       4.118367  0.853074  1.0  5.0\n",
      "87       4.023121  1.474409  1.0  5.0\n",
      "88       4.333893  0.949618  1.0  5.0\n",
      "\n",
      "[89 rows x 4 columns]\n"
     ]
    }
   ],
   "source": [
    "# grouping by Item ID and finding out the mean for ratings for each item.\n",
    "\n",
    "itemID_group = ecom_data_clean_2.groupby('item_id').agg({'rating': ['mean', 'std', 'min', 'max']})\n",
    "print(itemID_group)"
   ]
  },
  {
   "cell_type": "code",
   "execution_count": null,
   "metadata": {},
   "outputs": [],
   "source": []
  },
  {
   "cell_type": "markdown",
   "metadata": {},
   "source": [
    "#### Q3. Plotting and Analysis\n",
    "\n",
    "Please try to explore the correlation between gender/helpfulness/category and ratings; for instance, do female/male users tend to provide higher ratings than male/female users? Hint: you may use the boxplot function to plot figures for comparison (___Challenge___)\n",
    "    \n",
    "You may need to select the most suitable graphic forms for ease of presentation. Most importantly, for each figure or subfigure, please summarise ___what each plot shows___ (i.e. observations and explanations). Finally, you may need to provide an overall summary of the data."
   ]
  },
  {
   "cell_type": "code",
   "execution_count": null,
   "metadata": {},
   "outputs": [],
   "source": []
  },
  {
   "cell_type": "code",
   "execution_count": 56,
   "metadata": {},
   "outputs": [
    {
     "data": {
      "text/plain": [
       "<matplotlib.axes._subplots.AxesSubplot at 0x17c99ad4fd0>"
      ]
     },
     "execution_count": 56,
     "metadata": {},
     "output_type": "execute_result"
    },
    {
     "data": {
      "image/png": "[encoded data removed]",
      "text/plain": [
       "<Figure size 432x288 with 1 Axes>"
      ]
     },
     "metadata": {
      "needs_background": "light"
     },
     "output_type": "display_data"
    }
   ],
   "source": [
    "# your code and solutions\n",
    "\n",
    "import seaborn as sns\n",
    "\n",
    "sns.boxplot(data = ecom_data_clean_2, x='rating', y ='gender')"
   ]
  },
  {
   "cell_type": "markdown",
   "metadata": {},
   "source": [
    "Answer: From the above BOX PLOT there seems to be no correlation between the ratings given by the female users and the male users. Box plot for both genders have same Median, Upper quartile and the lower quartile."
   ]
  },
  {
   "cell_type": "code",
   "execution_count": 57,
   "metadata": {},
   "outputs": [
    {
     "data": {
      "text/plain": [
       "-0.0003192683316425124"
      ]
     },
     "execution_count": 57,
     "metadata": {},
     "output_type": "execute_result"
    }
   ],
   "source": [
    "ecom_data_clean_2['helpfulness'].corr(ecom_data_clean_2['rating'])"
   ]
  },
  {
   "cell_type": "markdown",
   "metadata": {},
   "source": [
    "The correlation beteween helpfulness and rating is on the negative side, meaning helpfulness somewhat increases with the decrease in ratings. But, NOTHING CAN BE CONCLUDED because the number is very close to ZERO."
   ]
  },
  {
   "cell_type": "code",
   "execution_count": 58,
   "metadata": {},
   "outputs": [
    {
     "data": {
      "text/plain": [
       "<matplotlib.axes._subplots.AxesSubplot at 0x17c98931710>"
      ]
     },
     "execution_count": 58,
     "metadata": {},
     "output_type": "execute_result"
    },
    {
     "data": {
      "image/png": "[encoded data removed]",
      "text/plain": [
       "<Figure size 432x288 with 1 Axes>"
      ]
     },
     "metadata": {
      "needs_background": "light"
     },
     "output_type": "display_data"
    }
   ],
   "source": [
    "sns.boxplot(data = ecom_data_clean_2, x='rating', y ='category')"
   ]
  },
  {
   "cell_type": "markdown",
   "metadata": {},
   "source": [
    "From the above Boxplot, we can see that most categories have a mean rating of 4 and lower quartile of 2 and upper quartile of 5. In case of media the mean is only 2, with lower qurtile being just 1, meaning users tend to not like media much. But when it comes to Movies the lower qurtile is 3 and upper quartile is 5 and for games also it's in the higher range, meaning, on an average users like moveis and games more than all other categories."
   ]
  },
  {
   "cell_type": "markdown",
   "metadata": {},
   "source": [
    "#### Q4. Detect and remove outliers\n",
    "\n",
    "We may define outlier users, reviews and items with three rules (if a record meets one of the rules, it is regarded as an outlier):\n",
    "\n",
    "* reviews of which the helpfulness is no more than 2\n",
    "* users who rate less than 7 items\n",
    "* items that receives less than 11 ratings \n",
    " \n",
    "Please remove the corresponding records in the csv file that involves outlier users, reviews and items. After that, __print the length of the data__."
   ]
  },
  {
   "cell_type": "code",
   "execution_count": 59,
   "metadata": {},
   "outputs": [
    {
     "data": {
      "text/plain": [
       "(13643, 11)"
      ]
     },
     "execution_count": 59,
     "metadata": {},
     "output_type": "execute_result"
    }
   ],
   "source": [
    "# your code and solutions\n",
    "\n",
    "#removing data where helpfulness is less than 2\n",
    "\n",
    "filtered_data1 = ecom_data_clean_2.drop(ecom_data_clean_2.index[(ecom_data_clean_2.helpfulness <= 2)])\n",
    "filtered_data1.shape"
   ]
  },
  {
   "cell_type": "code",
   "execution_count": 60,
   "metadata": {},
   "outputs": [
    {
     "data": {
      "text/plain": [
       "(2741, 11)"
      ]
     },
     "execution_count": 60,
     "metadata": {},
     "output_type": "execute_result"
    }
   ],
   "source": [
    "# removing data for users who rated less than 7 items\n",
    "\n",
    "min_rating_count = 7\n",
    "filtered_data2 = []\n",
    "\n",
    "unique_users = filtered_data1['userId'].unique()\n",
    "\n",
    "for user_id in unique_users:\n",
    "    user_data = filtered_data1[filtered_data1['userId'] == user_id]\n",
    "    if user_data['rating'].count() >= min_rating_count:\n",
    "        filtered_data2.append(user_data)\n",
    "\n",
    "filtered_data2 = pd.concat(filtered_data2)\n",
    "\n",
    "filtered_data2.shape"
   ]
  },
  {
   "cell_type": "code",
   "execution_count": 61,
   "metadata": {},
   "outputs": [
    {
     "data": {
      "text/plain": [
       "(2685, 11)"
      ]
     },
     "execution_count": 61,
     "metadata": {},
     "output_type": "execute_result"
    }
   ],
   "source": [
    "#removing items that receive less than 11 ratings\n",
    "\n",
    "#here instead of using a for loop using 1 line code to group and filter\n",
    "\n",
    "min_rate_count_items = 11\n",
    "filtered_data3 = filtered_data2[filtered_data2.groupby('item_id')['rating'].transform('count') >= min_rate_count_items ]\n",
    "filtered_data3.shape"
   ]
  },
  {
   "cell_type": "code",
   "execution_count": 62,
   "metadata": {},
   "outputs": [
    {
     "data": {
      "text/plain": [
       "2685"
      ]
     },
     "execution_count": 62,
     "metadata": {},
     "output_type": "execute_result"
    }
   ],
   "source": [
    "len(filtered_data3)"
   ]
  },
  {
   "cell_type": "code",
   "execution_count": null,
   "metadata": {},
   "outputs": [],
   "source": []
  }
 ],
 "metadata": {
  "kernelspec": {
   "display_name": "Python 3",
   "language": "python",
   "name": "python3"
  },
  "language_info": {
   "codemirror_mode": {
    "name": "ipython",
    "version": 3
   },
   "file_extension": ".py",
   "mimetype": "text/x-python",
   "name": "python",
   "nbconvert_exporter": "python",
   "pygments_lexer": "ipython3",
   "version": "3.7.3"
  }
 },
 "nbformat": 4,
 "nbformat_minor": 5
}
